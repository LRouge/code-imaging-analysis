{
 "cells": [
  {
   "cell_type": "code",
   "execution_count": null,
   "id": "baf7c696-9e39-49e2-a45a-d6ef28c41369",
   "metadata": {},
   "outputs": [],
   "source": [
    "import numpy as np\n",
    "from pathlib import Path\n",
    "import os\n",
    "import scipy\n",
    "import pandas as pd"
   ]
  },
  {
   "cell_type": "code",
   "execution_count": null,
   "id": "a3b1e580-9c8f-4635-b746-028d7c0cb3ef",
   "metadata": {},
   "outputs": [],
   "source": [
    "folder_path = r\"S:\\microscopy\\Calcium imaging\\24.06.28_1361_5mM_aldi\\analysis_replicate\\papaer_analysis\"\n",
    "file_name = 'grouped_intensity_and_speed_df_merge.csv'\n",
    "#strain_name = '2727'\n",
    "#strain_file_name =  file_name + strain_name + \".csv\"\n",
    "worm_data_df = pd.read_csv(os.path.join(folder_path, file_name))\n",
    "worm_data_df"
   ]
  },
  {
   "cell_type": "code",
   "execution_count": null,
   "id": "ff12b16a-5036-4a0f-90eb-539415d7d45e",
   "metadata": {},
   "outputs": [],
   "source": [
    "worm_data_df['centroid_x'] = pd.to_numeric(worm_data_df['centroid_x'], errors='coerce')\n",
    "worm_data_df['centroid_y'] = pd.to_numeric(worm_data_df['centroid_y'], errors='coerce')\n",
    "\n",
    "# Drop rows with NaN values in 'centroid_x' or 'centroid_y'\n",
    "worm_data_df = worm_data_df.dropna(subset=['centroid_x', 'centroid_y'])\n",
    "\n",
    "# Group by 'n_worm' and calculate distances within each group\n",
    "def calculate_distance(group):\n",
    "    x_squared_diff = (group['centroid_x'] - group['centroid_x'].shift()) ** 2\n",
    "    y_squared_diff = (group['centroid_y'] - group['centroid_y'].shift()) ** 2\n",
    "    group['distance'] = (x_squared_diff + y_squared_diff) ** 0.5\n",
    "    return group\n",
    "\n",
    "# Apply the function to each group\n",
    "worm_data_df = worm_data_df.groupby((['n_worm', 'replicate']), group_keys=False).apply(calculate_distance)\n",
    "\n",
    "# Define a speed coefficient µm/px * FPS\n",
    "speed_coefficient = 0.73 * 0.17\n",
    "\n",
    "# Calculate the speed by multiplying the distance by the speed coefficient\n",
    "worm_data_df['speed'] = worm_data_df['distance'] * speed_coefficient\n",
    "worm_data_df"
   ]
  },
  {
   "cell_type": "code",
   "execution_count": null,
   "id": "6b8ee2f6-77c4-4097-a4fa-d1ac9a2277f3",
   "metadata": {},
   "outputs": [],
   "source": [
    "grouped_worms = worm_data_df.groupby(['replicate','n_worm'])\n",
    "sorted_groups = grouped_worms.apply(lambda x: x.sort_values(by='time')).reset_index(drop=True)\n",
    "regrouped_sorted = sorted_groups.groupby(['replicate', 'n_worm'])\n",
    "\n",
    "# Interpolate\n",
    "worm_data_df['speed'] = regrouped_sorted['speed'].transform(lambda x: x.interpolate(method='linear', limit_direction='both'))\n",
    "grouped_worms = worm_data_df.groupby(['replicate','n_worm'])\n",
    "\n",
    "\n",
    "worm_data_df['smooth_speed'] = grouped_worms['speed'].transform(lambda x: scipy.signal.savgol_filter(x, 20, 0, mode='mirror'))\n",
    "worm_data_df"
   ]
  },
  {
   "cell_type": "code",
   "execution_count": null,
   "id": "eed9c36e-23ad-442f-b1e5-2a0577761eb9",
   "metadata": {},
   "outputs": [],
   "source": [
    "grouped = worm_data_df.groupby(['time'])\n",
    "\n",
    "# Now, calculate the mean of 'mean_intensity' and 'normalized_intensity' for each group\n",
    "result = grouped.agg(\n",
    "    w_count=('speed', 'count'),\n",
    "    mean_speed=('speed', 'mean'),\n",
    "    std_speed=('speed', 'std'),\n",
    "    mean_speed_smooth=('smooth_speed', 'mean'),\n",
    "    std_speed_smooth=('smooth_speed', 'std'),\n",
    "    ).reset_index()\n",
    "\n",
    "# Add standard error as a new column\n",
    "result['speed_err'] = result['std_speed'] / np.sqrt(result['w_count'])\n",
    "result['speed_err_smooth'] = result['std_speed_smooth'] / np.sqrt(result['w_count'])\n",
    "\n",
    "result"
   ]
  },
  {
   "cell_type": "code",
   "execution_count": null,
   "id": "90262a20-e3d2-4729-8d4f-59685d67e773",
   "metadata": {},
   "outputs": [],
   "source": [
    "result.to_csv(Path(folder_path).joinpath(f'{file_name}_speed_mean.csv'), index=False) #False exclude index column"
   ]
  },
  {
   "cell_type": "code",
   "execution_count": null,
   "id": "3da41d6c-4217-4ee8-bff1-4641cabfd2d8",
   "metadata": {},
   "outputs": [],
   "source": [
    "# Filter and print speed values where time is 0\n",
    "speeds_at_time_zero = worm_data_df[worm_data_df[\"time\"] == 0][\"speed\"]\n",
    "print(speeds_at_time_zero.tolist())  # Prints as a list"
   ]
  },
  {
   "cell_type": "code",
   "execution_count": null,
   "id": "a40223ed-3ece-4f72-90c2-e26ec8522beb",
   "metadata": {},
   "outputs": [],
   "source": [
    "worm_data_df[\"n_worm_replicate\"] = worm_data_df[\"n_worm\"].astype(str) + \"_rep\" + worm_data_df[\"replicate\"].astype(str)\n",
    "\n",
    "# Pivot the table\n",
    "df_pivot = worm_data_df.pivot(index=\"time\", columns=\"n_worm_replicate\", values=\"speed\")\n",
    "\n",
    "# Rename columns for clarity\n",
    "df_pivot.columns = [f\"Worm_{col}_Speed\" for col in df_pivot.columns]\n",
    "\n",
    "# Display the new table\n",
    "print(df_pivot.head())"
   ]
  },
  {
   "cell_type": "code",
   "execution_count": null,
   "id": "217046e7-b24e-4e08-8b8d-7687d7b2930d",
   "metadata": {},
   "outputs": [],
   "source": [
    "df_pivot.to_csv(Path(folder_path).joinpath(f'{file_name}_table_wormspeed.csv'), index=False) #False exclude index column"
   ]
  },
  {
   "cell_type": "code",
   "execution_count": null,
   "id": "53bf9076-01f9-4639-9342-04a654bf2cc2",
   "metadata": {},
   "outputs": [],
   "source": [
    "group_worm = worm_data_df.groupby(['replicate', 'n_worm'])\n",
    "# Now, calculate the mean of 'mean_intensity' and 'normalized_intensity' for each group\n",
    "smooth_mean_worm = group_worm['smooth_speed'].mean()\n",
    "smooth_mean_worm"
   ]
  },
  {
   "cell_type": "code",
   "execution_count": null,
   "id": "90617832-ea1e-48d3-9af2-5b51e4b7a534",
   "metadata": {},
   "outputs": [],
   "source": [
    "smooth_mean_worm.to_csv(Path(folder_path).joinpath(f'{file_name}_speed_for_stats.csv'), index=False)"
   ]
  },
  {
   "cell_type": "code",
   "execution_count": null,
   "id": "61f4ae16-560b-432d-b643-eb8ed1be665c",
   "metadata": {},
   "outputs": [],
   "source": []
  }
 ],
 "metadata": {
  "kernelspec": {
   "display_name": "Python 3 (ipykernel)",
   "language": "python",
   "name": "python3"
  },
  "language_info": {
   "codemirror_mode": {
    "name": "ipython",
    "version": 3
   },
   "file_extension": ".py",
   "mimetype": "text/x-python",
   "name": "python",
   "nbconvert_exporter": "python",
   "pygments_lexer": "ipython3",
   "version": "3.11.3"
  }
 },
 "nbformat": 4,
 "nbformat_minor": 5
}
