{
 "cells": [
  {
   "cell_type": "code",
   "execution_count": null,
   "id": "b443b822-da32-4e8a-88e5-93a802bf72c5",
   "metadata": {},
   "outputs": [],
   "source": [
    "import numpy as np\n",
    "from pathlib import Path\n",
    "import os \n",
    "from scipy.stats import ranksums\n",
    "import pandas as pd"
   ]
  },
  {
   "cell_type": "code",
   "execution_count": null,
   "id": "b527bdb5-0d7e-4fd7-b9dd-f6390a1f0950",
   "metadata": {},
   "outputs": [],
   "source": [
    "folder_path = r\"S:\\microscopy\\HSP\\23.03.23 gabaKD\\HSP-gaba\\analysis_paper\"\n",
    "file_name = 'intensity_norm_merge_6days.csv'\n",
    "#strain_name = '2727'\n",
    "#strain_file_name =  file_name + strain_name + \".csv\"\n",
    "worm_data_df = pd.read_csv(os.path.join(folder_path, file_name))\n",
    "worm_data_df"
   ]
  },
  {
   "cell_type": "markdown",
   "id": "39b17468-3c00-424c-91fa-59debcba82ea",
   "metadata": {},
   "source": [
    "To calculate the test at 1 time point"
   ]
  },
  {
   "cell_type": "code",
   "execution_count": null,
   "id": "3e042c79-bc31-454d-88a0-d355898329bf",
   "metadata": {},
   "outputs": [],
   "source": [
    "datapoint = 150\n",
    "\n",
    "single_data_at_time_point = worm_data_df[worm_data_df['time'] == datapoint]\n",
    "# Separate the data into the two strains\n",
    "single_strain_1361 = single_data_at_time_point[single_data_at_time_point['strain'] == \"h2o\"]['speed']\n",
    "single_strain_2727 = single_data_at_time_point[single_data_at_time_point['strain'] == \"aldi\"]['speed']\n",
    "\n",
    "_ , p = ranksums(single_strain_1361, single_strain_2727, alternative='two-sided')\n",
    "print(f'p_value: {p}, significatn: {p<0.05}  x_mean: {np.mean(single_strain_1361)}, y_mean: {np.mean(single_strain_2727)}') "
   ]
  },
  {
   "cell_type": "code",
   "execution_count": null,
   "id": "c1c6d520-24b2-4601-9973-f331db443005",
   "metadata": {},
   "outputs": [],
   "source": [
    "single_strain_1361"
   ]
  },
  {
   "cell_type": "markdown",
   "id": "6731e497-d752-497c-a082-06519927eeb6",
   "metadata": {},
   "source": [
    "**To calculate test for HSP** "
   ]
  },
  {
   "cell_type": "code",
   "execution_count": null,
   "id": "cad986c3-5ba7-4ffc-abe2-e55f755d9044",
   "metadata": {},
   "outputs": [],
   "source": [
    "worm_data_df['normalized_intensity'] = pd.to_numeric(worm_data_df['normalized_intensity'], errors='coerce')\n",
    "#worm_data_df['speed'] = pd.to_numeric(worm_data_df['speed'], errors='coerce')"
   ]
  },
  {
   "cell_type": "code",
   "execution_count": null,
   "id": "3a06c36d-f4ef-4039-b78a-cf3c60339335",
   "metadata": {},
   "outputs": [],
   "source": [
    "#worm_data_df = worm_data_df[~worm_data_df['day'].isin([9, 8])]\n",
    "worm_data_df"
   ]
  },
  {
   "cell_type": "code",
   "execution_count": null,
   "id": "7992a2aa-f189-41d3-91d5-46d4325b549c",
   "metadata": {},
   "outputs": [],
   "source": [
    "from pathlib import Path\n",
    "# Assuming your data is in a DataFrame called df\n",
    "# Sort by 'strain', 'replicate', 'worm', and 'day'\n",
    "#df_sorted = worm_data_df.sort_values(by=['strain', 'replicate', 'n_worm', 'day'], ascending=[True, True, True, False])\n",
    "#df_sorted = worm_data_df.sort_values(by=['strain', 'worm', 'day'], ascending=[True, True, False])\n",
    "\n",
    "# Group by 'strain', 'replicate', and 'worm'\n",
    "grouped = worm_data_df.groupby(['strain', 'replicate', 'worm'])\n",
    "#grouped = df_sorted.groupby(['strain', 'worm'])\n",
    "# For each group, take the last 4 entries (most recent days)\n",
    "last_days = 4\n",
    "last_four_days = grouped.tail(last_days)\n",
    "\n",
    "# Now, calculate the mean of 'mean_intensity' and 'normalized_intensity' for each group\n",
    "result = last_four_days.groupby(['strain', 'replicate', 'worm']).agg(\n",
    "    #mean_mean_intensity=('mean_intensity', 'mean'),\n",
    "    mean_normalized_intensity=('normalized_intensity', 'mean'),\n",
    "    #mean_speed=('speed', 'mean')\n",
    ").reset_index()\n",
    "\n",
    "print(result)\n",
    "\n",
    "result.to_csv(Path(folder_path).joinpath(f'grouped_mean_{last_days}_time.csv'), index=False) #False exclude index column"
   ]
  },
  {
   "cell_type": "code",
   "execution_count": null,
   "id": "995f6191-feca-4913-b555-6dab1936b948",
   "metadata": {},
   "outputs": [],
   "source": [
    "last_four_days"
   ]
  },
  {
   "cell_type": "code",
   "execution_count": null,
   "id": "fea99d81-05ad-41d7-bdec-e30296792cdd",
   "metadata": {},
   "outputs": [],
   "source": [
    "from pathlib import Path\n",
    "\n",
    "# Group by 'strain', 'replicate', and 'worm'\n",
    "#grouped = worm_data_df.groupby(['strain', 'replicate', 'n_worm'])\n",
    "grouped = worm_data_df.groupby(['strain', 'n_worm_new'])\n",
    "\n",
    "start_frame = 140\n",
    "end_frame = 160\n",
    "\n",
    "# Select the desired range\n",
    "selected_range = grouped.apply(lambda x: x.iloc[start_frame:end_frame+1])\n",
    "\n",
    "# Reset the index to avoid ambiguity\n",
    "selected_range = selected_range.reset_index(drop=True)\n",
    "\n",
    "# Now, calculate the mean of 'mean_intensity' and 'normalized_intensity' for each group\n",
    "#result = selected_range.groupby(['strain', 'replicate', 'n_worm']).agg(\n",
    "result = selected_range.groupby(['strain', 'n_worm_new']).agg(\n",
    "    #mean_mean_intensity=('mean_intensity', 'mean'),\n",
    "    mean_intensity=('intensity', 'mean'),\n",
    "    mean_speed=('speed', 'mean'),\n",
    "    mean_sleep=('sleep', 'mean')\n",
    ").reset_index()\n",
    "\n",
    "print(result)\n",
    "#analysis = input('bout or peak alignment')\n",
    "strain_name = input('strain name?')\n",
    "result.to_csv(Path(folder_path).joinpath(f'{strain_name}_grouped_mean_peak_from_{start_frame}_to_{end_frame}_time.csv'), index=False) #False exclude index column"
   ]
  },
  {
   "cell_type": "code",
   "execution_count": null,
   "id": "48bded0d-937f-4530-8638-f6258f1b4919",
   "metadata": {},
   "outputs": [],
   "source": [
    "from pathlib import Path\n",
    "\n",
    "# Group by 'strain', 'replicate', and 'worm'\n",
    "grouped = worm_data_df.groupby(['strain', 'replicate', 'n_worm'])\n",
    "#grouped = worm_data_df.groupby(['strain', 'n_worm_new'])\n",
    "\n",
    "start_frame = 150\n",
    "end_frame = 200\n",
    "\n",
    "# Select the desired range\n",
    "selected_range = grouped.apply(lambda x: x.iloc[start_frame:end_frame+1])\n",
    "\n",
    "# Reset the index to avoid ambiguity\n",
    "selected_range = selected_range.reset_index(drop=True)\n",
    "\n",
    "# Now, calculate the mean of 'mean_intensity' and 'normalized_intensity' for each group\n",
    "result = selected_range.groupby(['strain', 'replicate', 'n_worm']).agg(\n",
    "#result = selected_range.groupby(['strain', 'n_worm_new']).agg(\n",
    "    #mean_mean_intensity=('mean_intensity', 'mean'),\n",
    "    mean_intensity=('intensity', 'mean'),\n",
    "    mean_speed=('speed', 'mean'),\n",
    "    mean_sleep=('sleep', 'mean')\n",
    ").reset_index()\n",
    "\n",
    "print(result)\n",
    "analysis = 'bout'\n",
    "strain_name = input('strain name?')\n",
    "result.to_csv(Path(folder_path).joinpath(f'{strain_name}_grouped_mean_{analysis}_from_{start_frame}_to_{end_frame}_time.csv'), index=False) #False exclude index column"
   ]
  }
 ],
 "metadata": {
  "kernelspec": {
   "display_name": "Python 3 (ipykernel)",
   "language": "python",
   "name": "python3"
  },
  "language_info": {
   "codemirror_mode": {
    "name": "ipython",
    "version": 3
   },
   "file_extension": ".py",
   "mimetype": "text/x-python",
   "name": "python",
   "nbconvert_exporter": "python",
   "pygments_lexer": "ipython3",
   "version": "3.11.3"
  }
 },
 "nbformat": 4,
 "nbformat_minor": 5
}
